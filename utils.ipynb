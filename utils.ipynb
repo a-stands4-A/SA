{
 "cells": [
  {
   "cell_type": "code",
   "execution_count": 136,
   "metadata": {
    "collapsed": true,
    "pycharm": {
     "name": "#%%\n"
    }
   },
   "outputs": [],
   "source": [
    "import pandas as pd\n",
    "import numpy as np\n",
    "import graphviz"
   ]
  },
  {
   "cell_type": "code",
   "execution_count": 134,
   "outputs": [],
   "source": [
    "raw = \"\"\"\n",
    "graph ni {\n",
    "    node [shape=rarrow]\n",
    "    1 [label=\"Ni!\"]\n",
    "    2 [label=\"Ni!\"]\n",
    "    3 [label=\"Ni!\" shape=egg]\n",
    "    node [shape=star]\n",
    "    4 [label=\"Ni!\"]\n",
    "    5 [label=\"Ni!\"]\n",
    "    rankdir=LR\n",
    "    1 -- 2\n",
    "    2 -- 3\n",
    "    3 -- 4\n",
    "    4 -- 5\n",
    "}\n",
    "\"\"\""
   ],
   "metadata": {
    "collapsed": false,
    "pycharm": {
     "name": "#%%\n"
    }
   }
  },
  {
   "cell_type": "code",
   "execution_count": 137,
   "outputs": [],
   "source": [
    "raw = \"\"\"\n",
    "digraph G{\n",
    " rankdir=LR;\n",
    " node[color=\"red\",fontsize=14];\n",
    " edge[color=\"darkgreen\",fontcolor=\"blue\",fontsize=12];\n",
    " OPEN[shape=\"rectangle\",style=\"filled\",fillcolor=\"lightgrey\"];\n",
    " CLOSED[shape=\"octagon\",label=\"Финиш\"];\n",
    " VERIFIED[shape=\"rectangle\",style=\"rounded\"];\n",
    " OPEN->RESOLVED->VERIFIED->CLOSED;\n",
    " OPEN->CLOSED[style=\"bold\"];\n",
    " VERIFIED->OPEN[label=\"обнаружены ошибки\",style=\"dashed\",arrowhead=\"dot\"];\n",
    "}\n",
    "\"\"\""
   ],
   "metadata": {
    "collapsed": false,
    "pycharm": {
     "name": "#%%\n"
    }
   }
  },
  {
   "cell_type": "code",
   "execution_count": 138,
   "outputs": [],
   "source": [
    "src = graphviz.Source(raw)\n",
    "src.format = 'png'\n",
    "# src.format = 'svg'\n",
    "# src.format = 'pdf'"
   ],
   "metadata": {
    "collapsed": false,
    "pycharm": {
     "name": "#%%\n"
    }
   }
  },
  {
   "cell_type": "code",
   "execution_count": 140,
   "outputs": [
    {
     "data": {
      "text/plain": "'grenade.gv.png'"
     },
     "execution_count": 140,
     "metadata": {},
     "output_type": "execute_result"
    }
   ],
   "source": [
    "src.render('grenade.gv', view=True).replace('\\\\', '/')"
   ],
   "metadata": {
    "collapsed": false,
    "pycharm": {
     "name": "#%%\n"
    }
   }
  },
  {
   "cell_type": "code",
   "execution_count": 132,
   "outputs": [],
   "source": [],
   "metadata": {
    "collapsed": false,
    "pycharm": {
     "name": "#%%\n"
    }
   }
  }
 ],
 "metadata": {
  "kernelspec": {
   "display_name": "Python 3",
   "language": "python",
   "name": "python3"
  },
  "language_info": {
   "codemirror_mode": {
    "name": "ipython",
    "version": 2
   },
   "file_extension": ".py",
   "mimetype": "text/x-python",
   "name": "python",
   "nbconvert_exporter": "python",
   "pygments_lexer": "ipython2",
   "version": "2.7.6"
  }
 },
 "nbformat": 4,
 "nbformat_minor": 0
}